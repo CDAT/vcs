{
 "cells": [
  {
   "cell_type": "markdown",
   "metadata": {},
   "source": [
    "# Animations In VCS<a id=\"top\"></a>\n",
    "\n",
    "This Notebook demonstrates how to create animations in VCS\n",
    "\n",
    "Animations are rendered via FFMPEG\n",
    "\n",
    "- [Download the Jupyter notebook](Animations.ipynb)"
   ]
  },
  {
   "cell_type": "markdown",
   "metadata": {},
   "source": [
    "## Content\n",
    "\n",
    "- [Preparing The Notebook](#prepare)\n",
    "- [Example 1: Simple 2D Animation](#example1)\n",
    "  - [preparing 1d data](#2d_data)\n",
    "  - [creating the frames/pngs](#2d_creating)\n",
    "  - [create the animation](#2d_anim)\n",
    "- [Example 2: 1D line moving behind a \"target\" 1D data](#example2)\n",
    "  - [preparing 1d data](#1d_data)\n",
    "  - [preparing vcs objects](#1d_vcs_objects)\n",
    "  - [creating the frames/pngs](#1d_creating)\n",
    "  - [create the animation](#1d_anim)\n",
    "  - [slowing down the animation](#1d_slow)\n",
    "  - [speeding up the animation](#1d_fast)\n",
    "- [Example 3: Rotating Earth](#example3)\n",
    "  - [preparing data](#rot_data)\n",
    "  - [preparing vcs objects](#rot_vcs_objects)\n",
    "  - [creating the frames/pngs](#rot_creating)\n",
    "  - [create the animation](#rot_anim)\n",
    "  - [controlling the animation order](#rot_order)\n",
    "  - [bringing it all together, animating the data as well](#rot_all)\n",
    "  \n",
    "[Back to top](#top)"
   ]
  },
  {
   "cell_type": "markdown",
   "metadata": {},
   "source": [
    "## Preparing The Notebook<a id=\"prepare\"></a>\n",
    "[Back to top](#top)"
   ]
  },
  {
   "cell_type": "markdown",
   "metadata": {},
   "source": [
    "VCS 2.12 does not produce animation directly visible in the notebook\n",
    "The class bellow helps with this\n",
    "Nightly versions of vcs do produce animations objects that are adequate for notebooks"
   ]
  },
  {
   "cell_type": "code",
   "execution_count": 1,
   "metadata": {},
   "outputs": [],
   "source": [
    "class FFMPEG(object):\n",
    "    def __init__(self,source,width=320,height=240,controls=True):\n",
    "        self.source = source\n",
    "        self.width = width\n",
    "        self.height = height\n",
    "        self.controls=controls\n",
    "    def _repr_html_(self):\n",
    "        html = \"<video width='%i' height='%i'\" % (self.width,self.height)\n",
    "        if self.controls:\n",
    "            html += \"controls\"\n",
    "        html += \"><source src='%s' type='video/mp4'>\" % (self.source)\n",
    "        return  html"
   ]
  },
  {
   "cell_type": "markdown",
   "metadata": {},
   "source": [
    "We also need some sample data"
   ]
  },
  {
   "cell_type": "code",
   "execution_count": 2,
   "metadata": {},
   "outputs": [],
   "source": [
    "import requests\n",
    "r = requests.get(\"https://uvcdat.llnl.gov/cdat/sample_data/clt.nc\",stream=True)\n",
    "with open(\"clt.nc\",\"wb\") as f:\n",
    "    for chunk in r.iter_content(chunk_size=1024):\n",
    "        if chunk:  # filter local_filename keep-alive new chunks\n",
    "            f.write(chunk)"
   ]
  },
  {
   "cell_type": "markdown",
   "metadata": {},
   "source": [
    "## Example 1: Simple 2D data animation<a id=\"example1\"></a>\n",
    "\n",
    "In this example we will show a simple 2D animation\n",
    "\n",
    "[Back to top](#top)\n"
   ]
  },
  {
   "cell_type": "markdown",
   "metadata": {},
   "source": [
    "### Prepare data<a id=\"2d_data\"></a>"
   ]
  },
  {
   "cell_type": "code",
   "execution_count": 3,
   "metadata": {},
   "outputs": [],
   "source": [
    "import cdms2\n",
    "f=cdms2.open(\"clt.nc\")\n",
    "clt = f(\"clt\")"
   ]
  },
  {
   "cell_type": "markdown",
   "metadata": {},
   "source": [
    "### Create Frames<a id=\"2d_creating\"></a>\n",
    "[Back to top](#top)"
   ]
  },
  {
   "cell_type": "code",
   "execution_count": 4,
   "metadata": {},
   "outputs": [],
   "source": [
    "# make directory for pngs if not present\n",
    "import os\n",
    "if not os.path.exists(\"pngs\"):\n",
    "    os.makedirs(\"pngs\")\n",
    "    \n",
    "import vcs\n",
    "x=vcs.init(bg=True)\n",
    "\n",
    "for i in range(clt.shape[0]):\n",
    "    x.clear()\n",
    "    x.plot(clt[i])\n",
    "    x.png(\"pngs/2d_%s.png\" % str(i).zfill(6))"
   ]
  },
  {
   "cell_type": "markdown",
   "metadata": {},
   "source": [
    "### Create Animation<a id=\"2d_anim\"></a>\n",
    "[Back to top](#top)"
   ]
  },
  {
   "cell_type": "code",
   "execution_count": 5,
   "metadata": {},
   "outputs": [
    {
     "name": "stdout",
     "output_type": "stream",
     "text": [
      "Already Jupyter embedded\n"
     ]
    },
    {
     "data": {
      "text/html": [
       "<video width='640' height='420'controls><source src='2d_animation.mp4' type='video/mp4'>"
      ],
      "text/plain": [
       "<vcs.Canvas.JupyterFFMPEG at 0x11b33ce90>"
      ]
     },
     "execution_count": 5,
     "metadata": {},
     "output_type": "execute_result"
    }
   ],
   "source": [
    "import glob\n",
    "name = \"2d_animation.mp4\"\n",
    "\n",
    "# Create animation into file\n",
    "out = x.ffmpeg(name,sorted(glob.glob(\"pngs/2d*png\")))\n",
    "if isinstance(out,bool): # older vcs\n",
    "    print \"Preparing ffmpeg for Jupyter embedding\"\n",
    "    out = FFMPEG(name,width=800,height=600,controls=True)\n",
    "else: # nightlies\n",
    "    print \"Already Jupyter embedded\"\n",
    "out"
   ]
  },
  {
   "cell_type": "markdown",
   "metadata": {},
   "source": [
    "## Example 2: 1D data moving behind a 1D target data<a id=\"example2\"></a>\n",
    "\n",
    "In this example we will show a fix 1D *target* dataset and a moving red dataset in the back\n",
    "\n",
    "[Back to top](#top)\n"
   ]
  },
  {
   "cell_type": "markdown",
   "metadata": {},
   "source": [
    "### Let's prepare some data<a id=\"1d_data\"></a>"
   ]
  },
  {
   "cell_type": "code",
   "execution_count": 6,
   "metadata": {},
   "outputs": [],
   "source": [
    "import cdutil\n",
    "import numpy\n",
    "\n",
    "# Open data file\n",
    "f=cdms2.open(\"clt.nc\")\n",
    "\n",
    "# reads in data\n",
    "s=f(\"clt\")\n",
    "\n",
    "# Computes time serie\n",
    "ts=cdutil.averager(s,axis=\"xy\")\n",
    "\n",
    "# remove the mean\n",
    "mean = ts.mean()\n",
    "ts -= mean\n",
    "\n",
    "# create some random data with some extra points to fake the move\n",
    "Nextra = 120\n",
    "ts2 = numpy.random.rand(len(ts)+Nextra)*4.-2.\n",
    "\n",
    "# When plotting we will get data for 2 extra years than our target grid\n",
    "# Prepare the \"faxe time\" axis\n",
    "fake_time_axis = cdms2.createAxis(numpy.arange(-12,132))\n",
    "fake_time_axis.designateTime()\n",
    "fake_time_axis.id = \"time\"\n",
    "fake_time_axis.units=\"months since 1979\"\n"
   ]
  },
  {
   "cell_type": "markdown",
   "metadata": {},
   "source": [
    "### Prepare graphic methods and templates<a id=\"1d_vcs_objects\"></a>\n",
    "[Back to top](#top)"
   ]
  },
  {
   "cell_type": "code",
   "execution_count": 7,
   "metadata": {},
   "outputs": [],
   "source": [
    "# Create a \"blank\" template\n",
    "blank = vcs.createtemplate()\n",
    "blank.blank()\n",
    "blank.data.priority=1 # turn only data area\n",
    "\n",
    "# Create the \"black\" 1D line\n",
    "black = vcs.create1d()\n",
    "black.linecolor =\"black\"\n",
    "black.markercolor = [0,0,0,0]\n",
    "black.linewidth = 4\n",
    "black.datawc_y1= -3\n",
    "black.datawc_y2 = 3\n",
    "black.datawc_x1 = -12\n",
    "black.datawc_x2 = 132\n",
    "\n",
    "# And from it let's create the \"red\" moving one\n",
    "red = vcs.create1d(source=black.name)\n",
    "red.linecolor=\"red\"\n",
    "red.linewidth=2\n",
    "red.linetype = \"dot\""
   ]
  },
  {
   "cell_type": "markdown",
   "metadata": {},
   "source": [
    "### Create each frame/png<a id=\"1d_create\"></a>\n",
    "[Back to top](#top)"
   ]
  },
  {
   "cell_type": "code",
   "execution_count": 8,
   "metadata": {},
   "outputs": [
    {
     "name": "stderr",
     "output_type": "stream",
     "text": [
      "/Users/doutriaux1/anaconda2/envs/nightly2/lib/python2.7/site-packages/vcs/VTKPlots.py:1005: MaskedArrayFutureWarning: setting an item on a masked array which has a shared mask will not copy the mask and also change the original mask array in the future.\n",
      "Check the NumPy 1.11 release notes for more information.\n",
      "  data[:] = numpy.ma.masked_invalid(data, numpy.nan)\n"
     ]
    }
   ],
   "source": [
    "x=vcs.init(bg=True)\n",
    "for i in range(Nextra-24):\n",
    "    # Get some subset of data\n",
    "    tsub = cdms2.MV2.array(ts2[i:i+len(ts)+24]) # Two years worth of extra data\n",
    "    # Aplly fake axis to make it look like it moves\n",
    "    tsub.setAxis(0,fake_time_axis)\n",
    "    # clear and plot\n",
    "    x.clear()\n",
    "    x.plot(ts,black)\n",
    "    x.plot(tsub,red,blank)\n",
    "    # save data to a png file\n",
    "    x.png(\"pngs/1d_%s.png\" % str(i).zfill(6))"
   ]
  },
  {
   "cell_type": "markdown",
   "metadata": {},
   "source": [
    "### Create animation<a id=\"1d_anim\"></a>\n",
    "[Back to top](#top)"
   ]
  },
  {
   "cell_type": "code",
   "execution_count": 9,
   "metadata": {},
   "outputs": [
    {
     "name": "stdout",
     "output_type": "stream",
     "text": [
      "Already Jupyter embedded\n"
     ]
    },
    {
     "data": {
      "text/html": [
       "<video width='640' height='420'controls><source src='1d_animation.mp4' type='video/mp4'>"
      ],
      "text/plain": [
       "<vcs.Canvas.JupyterFFMPEG at 0x111ff0190>"
      ]
     },
     "execution_count": 9,
     "metadata": {},
     "output_type": "execute_result"
    }
   ],
   "source": [
    "name = \"1d_animation.mp4\"\n",
    "\n",
    "# Create animation into file\n",
    "out = x.ffmpeg(name,sorted(glob.glob(\"pngs/1d*png\")))\n",
    "if isinstance(out,bool): # older vcs\n",
    "    print \"Preparing ffmpeg for Jupyter embedding\"\n",
    "    out = FFMPEG(name,width=800,height=600,controls=True)\n",
    "else: # nightlies\n",
    "    print \"Already Jupyter embedded\"\n",
    "out"
   ]
  },
  {
   "cell_type": "markdown",
   "metadata": {},
   "source": [
    "### Slowing Down<a id=\"1d_slow\"></a>\n",
    "[Back to top](#top)"
   ]
  },
  {
   "cell_type": "code",
   "execution_count": 10,
   "metadata": {},
   "outputs": [
    {
     "name": "stdout",
     "output_type": "stream",
     "text": [
      "Already Jupyter embedded\n"
     ]
    },
    {
     "data": {
      "text/html": [
       "<video width='640' height='420'controls><source src='1d_animation_slow.mp4' type='video/mp4'>"
      ],
      "text/plain": [
       "<vcs.Canvas.JupyterFFMPEG at 0x1126ba510>"
      ]
     },
     "execution_count": 10,
     "metadata": {},
     "output_type": "execute_result"
    }
   ],
   "source": [
    "import glob\n",
    "name = \"1d_animation_slow.mp4\"\n",
    "\n",
    "# Create animation into file\n",
    "out = x.ffmpeg(name,sorted(glob.glob(\"pngs/1d*png\")),rate=2)\n",
    "if isinstance(out,bool): # older vcs\n",
    "    print \"Preparing ffmpeg for Jupyter embedding\"\n",
    "    out = FFMPEG(name,width=800,height=600,controls=True)\n",
    "else: # nightlies\n",
    "    print \"Already Jupyter embedded\"\n",
    "out"
   ]
  },
  {
   "cell_type": "markdown",
   "metadata": {},
   "source": [
    "### Speeding up the animation<a id=\"1d_fast\"></a>\n",
    "[Back to top](#top)"
   ]
  },
  {
   "cell_type": "code",
   "execution_count": 11,
   "metadata": {},
   "outputs": [
    {
     "name": "stdout",
     "output_type": "stream",
     "text": [
      "Already Jupyter embedded\n"
     ]
    },
    {
     "data": {
      "text/html": [
       "<video width='640' height='420'controls><source src='1d_animation_fast.mp4' type='video/mp4'>"
      ],
      "text/plain": [
       "<vcs.Canvas.JupyterFFMPEG at 0x12599a890>"
      ]
     },
     "execution_count": 11,
     "metadata": {},
     "output_type": "execute_result"
    }
   ],
   "source": [
    "import glob\n",
    "name = \"1d_animation_fast.mp4\"\n",
    "\n",
    "# Create animation into file\n",
    "out = x.ffmpeg(name,sorted(glob.glob(\"pngs/1d*png\")),rate=200)\n",
    "if isinstance(out,bool): # older vcs\n",
    "    print \"Preparing ffmpeg for Jupyter embedding\"\n",
    "    out = FFMPEG(name,width=800,height=600,controls=True)\n",
    "else: # nightlies\n",
    "    print \"Already Jupyter embedded\"\n",
    "out"
   ]
  },
  {
   "cell_type": "markdown",
   "metadata": {},
   "source": [
    "## Example 3: Rotating Globe<a id=\"example3\"></a>\n",
    "\n",
    "In this example we will display a rotating earth\n",
    "[Back to top](#top)"
   ]
  },
  {
   "cell_type": "markdown",
   "metadata": {},
   "source": [
    "### Preparing the data<a id=\"rot_prepare\"></a>\n",
    "[Back to top](#top)"
   ]
  },
  {
   "cell_type": "code",
   "execution_count": 12,
   "metadata": {},
   "outputs": [],
   "source": [
    "f=cdms2.open(\"clt.nc\")\n",
    "clt=f(\"clt\",time=slice(0,1),longitude=(0,361),squeeze=1) # Read the time slice and squeeze it out"
   ]
  },
  {
   "cell_type": "markdown",
   "metadata": {},
   "source": [
    "### Preparing the vcs objects<a id=\"rot_vcs_objects\"></a>\n",
    "[Back to top](#top)"
   ]
  },
  {
   "cell_type": "code",
   "execution_count": 13,
   "metadata": {},
   "outputs": [],
   "source": [
    "# create new canvas\n",
    "x = vcs.init(bg=True)\n",
    "\n",
    "# Create projection\n",
    "polar = vcs.createprojection(\"rotate\")\n",
    "polar.type = \"orthographic\"\n",
    "polar.centerlongitude=0.\n",
    "polar.centerlatitude=45.\n",
    "\n",
    "# Create isofill method\n",
    "iso = vcs.createisofill()\n",
    "iso.levels = range(0,110,10)\n",
    "iso.fillareacolors = vcs.getcolors(range(0,110,10))\n",
    "\n",
    "iso.projection = polar"
   ]
  },
  {
   "cell_type": "markdown",
   "metadata": {},
   "source": [
    "### Preparing the images<a id=\"rot_creating\"></a>\n",
    "[Back to top](#top)"
   ]
  },
  {
   "cell_type": "code",
   "execution_count": 14,
   "metadata": {},
   "outputs": [],
   "source": [
    "for centerLongitude in range(0,366,5):\n",
    "    polar.centerlongitude = centerLongitude\n",
    "    x.clear()\n",
    "    x.plot(clt,iso)\n",
    "    x.png(\"pngs/rotate_%s.png\" % str(centerLongitude).zfill(6))"
   ]
  },
  {
   "cell_type": "markdown",
   "metadata": {},
   "source": [
    "### Creating the animation<a id=\"rot_anim\"></a>\n",
    "[Back to top](#top)"
   ]
  },
  {
   "cell_type": "code",
   "execution_count": 15,
   "metadata": {},
   "outputs": [
    {
     "name": "stdout",
     "output_type": "stream",
     "text": [
      "files used ['pngs/rotate_000000.png', 'pngs/rotate_000005.png', 'pngs/rotate_000010.png', 'pngs/rotate_000015.png', 'pngs/rotate_000020.png', 'pngs/rotate_000025.png', 'pngs/rotate_000030.png', 'pngs/rotate_000035.png', 'pngs/rotate_000040.png', 'pngs/rotate_000045.png', 'pngs/rotate_000050.png', 'pngs/rotate_000055.png', 'pngs/rotate_000060.png', 'pngs/rotate_000065.png', 'pngs/rotate_000070.png', 'pngs/rotate_000075.png', 'pngs/rotate_000080.png', 'pngs/rotate_000085.png', 'pngs/rotate_000090.png', 'pngs/rotate_000095.png', 'pngs/rotate_000100.png', 'pngs/rotate_000105.png', 'pngs/rotate_000110.png', 'pngs/rotate_000115.png', 'pngs/rotate_000120.png', 'pngs/rotate_000125.png', 'pngs/rotate_000130.png', 'pngs/rotate_000135.png', 'pngs/rotate_000140.png', 'pngs/rotate_000145.png', 'pngs/rotate_000150.png', 'pngs/rotate_000155.png', 'pngs/rotate_000160.png', 'pngs/rotate_000165.png', 'pngs/rotate_000170.png', 'pngs/rotate_000175.png', 'pngs/rotate_000180.png', 'pngs/rotate_000185.png', 'pngs/rotate_000190.png', 'pngs/rotate_000195.png', 'pngs/rotate_000200.png', 'pngs/rotate_000205.png', 'pngs/rotate_000210.png', 'pngs/rotate_000215.png', 'pngs/rotate_000220.png', 'pngs/rotate_000225.png', 'pngs/rotate_000230.png', 'pngs/rotate_000235.png', 'pngs/rotate_000240.png', 'pngs/rotate_000245.png', 'pngs/rotate_000250.png', 'pngs/rotate_000255.png', 'pngs/rotate_000260.png', 'pngs/rotate_000265.png', 'pngs/rotate_000270.png', 'pngs/rotate_000275.png', 'pngs/rotate_000280.png', 'pngs/rotate_000285.png', 'pngs/rotate_000290.png', 'pngs/rotate_000295.png', 'pngs/rotate_000300.png', 'pngs/rotate_000305.png', 'pngs/rotate_000310.png', 'pngs/rotate_000315.png', 'pngs/rotate_000320.png', 'pngs/rotate_000325.png', 'pngs/rotate_000330.png', 'pngs/rotate_000335.png', 'pngs/rotate_000340.png', 'pngs/rotate_000345.png', 'pngs/rotate_000350.png', 'pngs/rotate_000355.png', 'pngs/rotate_000360.png', 'pngs/rotate_000365.png']\n",
      "Already Jupyter embedded\n"
     ]
    },
    {
     "data": {
      "text/html": [
       "<video width='640' height='420'controls><source src='rot_animation.mp4' type='video/mp4'>"
      ],
      "text/plain": [
       "<vcs.Canvas.JupyterFFMPEG at 0x11b95f650>"
      ]
     },
     "execution_count": 15,
     "metadata": {},
     "output_type": "execute_result"
    }
   ],
   "source": [
    "name = \"rot_animation.mp4\"\n",
    "\n",
    "# Create animation into file\n",
    "print \"files used\",glob.glob(\"pngs/rotate_*png\")\n",
    "out = x.ffmpeg(name,sorted(glob.glob(\"pngs/rotate_*png\")), rate=15)\n",
    "if isinstance(out,bool): # older vcs\n",
    "    print \"Preparing ffmpeg for Jupyter embedding\"\n",
    "    out = FFMPEG(name,width=800,height=600,controls=True)\n",
    "else: # nightlies\n",
    "    print \"Already Jupyter embedded\"\n",
    "out"
   ]
  },
  {
   "cell_type": "markdown",
   "metadata": {},
   "source": [
    "### Controlling <a id=\"rot_order\"></a>\n",
    "\n",
    "But it is rotating **THE WRONG WAY!!!*** \n",
    "\n",
    "Why?\n",
    "\n",
    "FFMPEG uses the images passed by the list in the order passed.\n",
    "\n",
    "Look above the order is with **growing** centerLongitude\n",
    "\n",
    "Let's fix this by passing the image sequence in **reversed** order"
   ]
  },
  {
   "cell_type": "code",
   "execution_count": 16,
   "metadata": {},
   "outputs": [
    {
     "name": "stdout",
     "output_type": "stream",
     "text": [
      "Already Jupyter embedded\n"
     ]
    },
    {
     "data": {
      "text/html": [
       "<video width='640' height='420'controls><source src='rot_animation_correct_order.mp4' type='video/mp4'>"
      ],
      "text/plain": [
       "<vcs.Canvas.JupyterFFMPEG at 0x11b33c850>"
      ]
     },
     "execution_count": 16,
     "metadata": {},
     "output_type": "execute_result"
    }
   ],
   "source": [
    "name = \"rot_animation_correct_order.mp4\"\n",
    "\n",
    "# Create animation into file\n",
    "out = x.ffmpeg(name,sorted(glob.glob(\"pngs/rotate_*png\"))[::-1], rate=15)\n",
    "if isinstance(out,bool): # older vcs\n",
    "    print \"Preparing ffmpeg for Jupyter embedding\"\n",
    "    out = FFMPEG(name,width=800,height=600,controls=True)\n",
    "else: # nightlies\n",
    "    print \"Already Jupyter embedded\"\n",
    "out"
   ]
  },
  {
   "cell_type": "markdown",
   "metadata": {},
   "source": [
    "### Animating Globe and Data<a id=\"rot_all\"></a>"
   ]
  },
  {
   "cell_type": "code",
   "execution_count": 17,
   "metadata": {},
   "outputs": [],
   "source": [
    "# Create pngs\n",
    "clt = f(\"clt\",longitude=(0,361))\n",
    "for i,centerLongitude in enumerate(range(0,361,4)):\n",
    "    polar.centerlongitude = centerLongitude\n",
    "    x.clear()\n",
    "    x.plot(clt[i],iso)\n",
    "    x.png(\"pngs/all_%s.png\" % str(centerLongitude).zfill(6))"
   ]
  },
  {
   "cell_type": "code",
   "execution_count": 18,
   "metadata": {},
   "outputs": [
    {
     "name": "stdout",
     "output_type": "stream",
     "text": [
      "Already Jupyter embedded\n"
     ]
    },
    {
     "data": {
      "text/html": [
       "<video width='640' height='420'controls><source src='rot_animation_all.mp4' type='video/mp4'>"
      ],
      "text/plain": [
       "<vcs.Canvas.JupyterFFMPEG at 0x1487ce390>"
      ]
     },
     "execution_count": 18,
     "metadata": {},
     "output_type": "execute_result"
    }
   ],
   "source": [
    "name = \"rot_animation_all.mp4\"\n",
    "\n",
    "# Create animation into file\n",
    "out = x.ffmpeg(name,sorted(glob.glob(\"pngs/all_*png\"))[::-1], rate=10)\n",
    "if isinstance(out,bool): # older vcs\n",
    "    print \"Preparing ffmpeg for Jupyter embedding\"\n",
    "    out = FFMPEG(name,width=800,height=600,controls=True)\n",
    "else: # nightlies\n",
    "    print \"Already Jupyter embedded\"\n",
    "out"
   ]
  }
 ],
 "metadata": {
  "kernelspec": {
   "display_name": "Python [conda env:nightly2]",
   "language": "python",
   "name": "conda-env-nightly2-py"
  },
  "language_info": {
   "codemirror_mode": {
    "name": "ipython",
    "version": 2
   },
   "file_extension": ".py",
   "mimetype": "text/x-python",
   "name": "python",
   "nbconvert_exporter": "python",
   "pygments_lexer": "ipython2",
   "version": "2.7.14"
  }
 },
 "nbformat": 4,
 "nbformat_minor": 2
}
