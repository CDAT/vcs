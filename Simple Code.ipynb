{
 "cells": [
  {
   "cell_type": "code",
   "execution_count": 1,
   "metadata": {},
   "outputs": [],
   "source": [
    "import vcs\n",
    "x=vcs.init()\n",
    "import cdat_info\n",
    "import os\n",
    "import cdms2\n",
    "f = cdms2.open(os.path.join(cdat_info.get_sampledata_path(),\"clt.nc\"))\n",
    "s=f(\"clt\")\n",
    "gm = vcs.createboxfill()"
   ]
  },
  {
   "cell_type": "code",
   "execution_count": 2,
   "metadata": {},
   "outputs": [
    {
     "name": "stderr",
     "output_type": "stream",
     "text": [
      "/Users/doutriaux1/anaconda2/envs/widgets/lib/python2.7/site-packages/numpy/ma/core.py:3169: FutureWarning: Using a non-tuple sequence for multidimensional indexing is deprecated; use `arr[tuple(seq)]` instead of `arr[seq]`. In the future this will be interpreted as an array index, `arr[np.array(seq)]`, which will result either in an error or a different result.\n",
      "  dout = self.data[indx]\n",
      "/Users/doutriaux1/anaconda2/envs/widgets/lib/python2.7/site-packages/vtk/util/numpy_support.py:135: FutureWarning: Conversion of the second argument of issubdtype from `complex` to `np.complexfloating` is deprecated. In future, it will be treated as `np.complex128 == np.dtype(complex).type`.\n",
      "  assert not numpy.issubdtype(z.dtype, complex), \\\n",
      "/Users/doutriaux1/anaconda2/envs/widgets/lib/python2.7/site-packages/numpy/ma/core.py:3201: FutureWarning: Using a non-tuple sequence for multidimensional indexing is deprecated; use `arr[tuple(seq)]` instead of `arr[seq]`. In the future this will be interpreted as an array index, `arr[np.array(seq)]`, which will result either in an error or a different result.\n",
      "  mout = _mask[indx]\n"
     ]
    },
    {
     "data": {
      "application/vnd.jupyter.widget-view+json": {
       "model_id": "2051c69fa7b845419407b5cd7f3d8044",
       "version_major": 2,
       "version_minor": 0
      },
      "text/plain": [
       "R01XaWRnZXQoY29sb3JtYXBzPVsnQU1JUCcsICdOQ0FSJywgJ2JsX3RvX2RhcmtyZWQnLCAnYmxfdG9fZHJrb3JhbmcnLCAnYmxlbmRzJywgJ2JsdWUyZGFya29yYW5nZScsICdibHVlMmRhcmvigKY=\n"
      ]
     },
     "metadata": {},
     "output_type": "display_data"
    }
   ],
   "source": [
    "from IPython.display import display\n",
    "import cdat_notebook\n",
    "\n",
    "self = x.plot(s,gm)\n",
    "box = vcs.getboxfill(self.g_name)\n",
    "b_dict = vcs.utils.dumpToDict(box)[0]\n",
    "if self._widget is not None:\n",
    "    self._widget.close()\n",
    "self._widget = cdat_notebook.GMWidget(value=b_dict)\n",
    "def refresh(o):\n",
    "    for k, v in self._widget.value.iteritems():\n",
    "        try:\n",
    "            setattr(box, k, v)\n",
    "        except:\n",
    "            pass\n",
    "    self._parent.update()\n",
    "    self._parent.backend.renWin.Render()\n",
    "    IPython.display.clear_output(wait=True)\n",
    "    IPython.display.display(self)\n",
    "self._widget.observe(refresh, names=\"value\")\n",
    "display(self._widget)"
   ]
  },
  {
   "cell_type": "code",
   "execution_count": null,
   "metadata": {},
   "outputs": [],
   "source": []
  }
 ],
 "metadata": {
  "kernelspec": {
   "display_name": "Python [conda env:widgets]",
   "language": "python",
   "name": "conda-env-widgets-py"
  },
  "language_info": {
   "codemirror_mode": {
    "name": "ipython",
    "version": 2
   },
   "file_extension": ".py",
   "mimetype": "text/x-python",
   "name": "python",
   "nbconvert_exporter": "python",
   "pygments_lexer": "ipython2",
   "version": "2.7.15"
  }
 },
 "nbformat": 4,
 "nbformat_minor": 2
}
